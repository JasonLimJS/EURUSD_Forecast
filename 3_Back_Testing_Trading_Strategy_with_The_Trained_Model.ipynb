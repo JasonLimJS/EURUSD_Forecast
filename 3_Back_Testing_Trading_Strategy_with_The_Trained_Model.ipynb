{
  "nbformat": 4,
  "nbformat_minor": 0,
  "metadata": {
    "colab": {
      "name": "3. Back- Testing Trading Strategy with The Trained Model.ipynb",
      "version": "0.3.2",
      "provenance": [],
      "collapsed_sections": [],
      "include_colab_link": true
    },
    "kernelspec": {
      "name": "python3",
      "display_name": "Python 3"
    },
    "accelerator": "GPU"
  },
  "cells": [
    {
      "cell_type": "markdown",
      "metadata": {
        "id": "view-in-github",
        "colab_type": "text"
      },
      "source": [
        "<a href=\"https://colab.research.google.com/github/JasonLimJS/EURUSD_Forecast/blob/master/3_Back_Testing_Trading_Strategy_with_The_Trained_Model.ipynb\" target=\"_parent\"><img src=\"https://colab.research.google.com/assets/colab-badge.svg\" alt=\"Open In Colab\"/></a>"
      ]
    },
    {
      "cell_type": "markdown",
      "metadata": {
        "id": "U5FMrQnHb-PD",
        "colab_type": "text"
      },
      "source": [
        "# **Introduction:**\n",
        "\n",
        "This document details all the steps involved in the daily backtesting of my trading strategies with the neural network ensemble trained.\n",
        "\n",
        "**Background:**\n",
        "\n",
        "It has been observed that EUR/USD pair is being traded in a highly volatile market and always reverting to a mean value that varies stochastically. After some experimentations, it has been found that the forecasted rates predicted by the trained neural network ensemble consists of the stochastically-varied value that this pair is reverting to, dependent on the EUR 3-Month LIBOR and USD 3-Month LIBOR. \n",
        "\n",
        "Hence, a mean-reverting strategy could be constructed.\n",
        "\n",
        "**Trading Strategy Overview:**\n",
        "\n",
        "1. Neural network ensemble is used to determine the mean EUR/USD rate with EUR 3-Month LIBOR   \n",
        "    and USD 3- Month LIBOR as input data.\n",
        "    \n",
        "2. The difference of bid rate and mean rate is computed across time to determine sell trigger while \n",
        "     the difference between ask rate and mean rate is computed to determine buy trigger.\n",
        "     \n",
        "3. Buy trigger and sell trigger of various thresholds are experimented in order to determine the  \n",
        "    optimal threshold that produces greatest returns.\n"
      ]
    },
    {
      "cell_type": "markdown",
      "metadata": {
        "id": "SOs_SJMatsur",
        "colab_type": "text"
      },
      "source": [
        "STEP 1: Import relevant libraries, input data and trained models"
      ]
    },
    {
      "cell_type": "code",
      "metadata": {
        "id": "fimYQuionNwU",
        "colab_type": "code",
        "colab": {}
      },
      "source": [
        "import numpy as np\n",
        "import pandas as pd\n",
        "import tensorflow as tf\n",
        "from keras.layers import Dense\n",
        "from keras.models import Sequential, load_model\n",
        "from keras.utils import plot_model\n",
        "from keras.optimizers import Adam\n",
        "from keras.callbacks import EarlyStopping\n",
        "from keras import backend as K\n",
        "import matplotlib.pyplot as plt\n",
        "from google.colab import drive\n",
        "from sklearn.model_selection import TimeSeriesSplit\n",
        "from sklearn.preprocessing import StandardScaler\n",
        "from sklearn.preprocessing import MinMaxScaler\n",
        "from sklearn.metrics import mean_squared_error as MSE\n",
        "from scipy.stats import norm\n",
        "from tensorflow.math import erf\n",
        "import warnings\n",
        "import matplotlib.pyplot as plt\n",
        "\n",
        "drive.mount('drive')\n",
        "\n",
        "raw_data= pd.read_csv('drive/My Drive/Trading EURUSD with Deep Learning Algorithms/input_data.csv')\n",
        "model_1= load_model('drive/My Drive/Trading EURUSD with Deep Learning Algorithms/EURUSD_model1.h5')\n",
        "model_2= load_model('drive/My Drive/Trading EURUSD with Deep Learning Algorithms/EURUSD_model2.h5')\n",
        "model_3= load_model('drive/My Drive/Trading EURUSD with Deep Learning Algorithms/EURUSD_model3.h5')\n",
        "model_4= load_model('drive/My Drive/Trading EURUSD with Deep Learning Algorithms/EURUSD_model4.h5')\n",
        "model_5= load_model('drive/My Drive/Trading EURUSD with Deep Learning Algorithms/EURUSD_model5.h5')\n",
        "model_6= load_model('drive/My Drive/Trading EURUSD with Deep Learning Algorithms/EURUSD_model6.h5')\n",
        "model_7= load_model('drive/My Drive/Trading EURUSD with Deep Learning Algorithms/EURUSD_model7.h5')\n",
        "model_8= load_model('drive/My Drive/Trading EURUSD with Deep Learning Algorithms/EURUSD_model8.h5')\n",
        "model_9= load_model('drive/My Drive/Trading EURUSD with Deep Learning Algorithms/EURUSD_model9.h5')\n",
        "model_10= load_model('drive/My Drive/Trading EURUSD with Deep Learning Algorithms/EURUSD_model10.h5')"
      ],
      "execution_count": 0,
      "outputs": []
    },
    {
      "cell_type": "markdown",
      "metadata": {
        "id": "GAiZBMNOwNzu",
        "colab_type": "text"
      },
      "source": [
        "STEP 2: Pre-process data for deploymnet."
      ]
    },
    {
      "cell_type": "code",
      "metadata": {
        "id": "4k-IQ0O5wS9V",
        "colab_type": "code",
        "colab": {}
      },
      "source": [
        "#Define parameters:\n",
        "\n",
        "scaled_params= pd.read_csv('drive/My Drive/Trading EURUSD with Deep Learning Algorithms/scaled_params.csv')\n",
        "y_train_mean= scaled_params['y_train_mean'].values\n",
        "y_train_sd= scaled_params['y_train_sd'].values\n",
        "X_train_min_c1= scaled_params['X_train_min_c1'].values\n",
        "X_train_max_c1= scaled_params['X_train_max_c1'].values\n",
        "X_train_min_c2= scaled_params['X_train_min_c2'].values\n",
        "X_train_max_c2= scaled_params['X_train_max_c2'].values\n",
        "y_train_min= scaled_params['y_train_min'].values\n",
        "y_train_max= scaled_params['y_train_max'].values\n",
        "\n",
        "raw_data['EURUSD_lead']= raw_data['EURUSD'].shift(-1)\n",
        "raw_data['EURUSD_return']= (raw_data.EURUSD_lead/raw_data.EURUSD-1)*100\n",
        "raw_data.dropna(inplace=True)\n",
        "raw_data.drop(['EURUSD','EURUSD_lead','vix','bond_spread','ice_swap_2y','ice_swap_3y','ice_swap_5y','ice_swap_7y','snp500','usd_libor_1m','eur_libor_1m'],axis=1,inplace=True)\n",
        "\n",
        "target_pre= raw_data['EURUSD_return'].values\n",
        "predictors_pre= raw_data.drop(['EURUSD_return'],axis=1).values\n",
        "\n",
        "target_pre1= (target_pre- y_train_mean)/y_train_sd\n",
        "target= (target_pre1- y_train_min)/(y_train_max-y_train_min)\n",
        "target= target.reshape(-1,1)\n",
        "\n",
        "predictors_c1= (predictors_pre[:,0] - X_train_min_c1)/(X_train_max_c1 -X_train_min_c1)\n",
        "predictors_c2= (predictors_pre[:,1] - X_train_min_c2)/(X_train_max_c2 -X_train_min_c2)\n",
        "\n",
        "predictors= np.column_stack([predictors_c1,predictors_c2])\n"
      ],
      "execution_count": 0,
      "outputs": []
    },
    {
      "cell_type": "markdown",
      "metadata": {
        "id": "E3L9KRj73eVX",
        "colab_type": "text"
      },
      "source": [
        "STEP 3: Deploying ensembled ANN model to predict EURUSD of T+1."
      ]
    },
    {
      "cell_type": "code",
      "metadata": {
        "id": "_VL1m2dY3juL",
        "colab_type": "code",
        "outputId": "89366899-d531-4801-f80f-5cdabc08ea9b",
        "colab": {
          "base_uri": "https://localhost:8080/",
          "height": 563
        }
      },
      "source": [
        "y_pred_1= model_1.predict(predictors)\n",
        "y_pred_2= model_2.predict(predictors)\n",
        "y_pred_3= model_3.predict(predictors)\n",
        "y_pred_4= model_4.predict(predictors)\n",
        "y_pred_5= model_5.predict(predictors)\n",
        "y_pred_6= model_6.predict(predictors)\n",
        "y_pred_7= model_7.predict(predictors)\n",
        "y_pred_8= model_8.predict(predictors)\n",
        "y_pred_9= model_9.predict(predictors)\n",
        "y_pred_10= model_10.predict(predictors)\n",
        "\n",
        "y_pred= (y_pred_1 + y_pred_2 + y_pred_3 + y_pred_4 + y_pred_5 + y_pred_6 + y_pred_7 + y_pred_8 + y_pred_9 + y_pred_10)/10\n",
        "\n",
        "y_pred_deminmax= y_pred*(y_train_max-y_train_min)+y_train_min\n",
        "y_pred_denorm= y_pred_deminmax*y_train_sd + y_train_mean\n",
        "y_pred= 1+ y_pred_denorm/100\n",
        "\n",
        "ori_data= pd.read_csv('drive/My Drive/Trading EURUSD with Deep Learning Algorithms/input_data.csv')\n",
        "\n",
        "eurusd_forecast= y_pred*ori_data.EURUSD.values[:-1].reshape(-1,1)\n",
        "RMSE_forecast= MSE(ori_data.EURUSD.values[1:],eurusd_forecast)**0.5\n",
        "\n",
        "print('RMSE of the model forecast is: ' + str(RMSE_forecast*10000) + ' pips')\n",
        "\n",
        "return_forecast= eurusd_forecast/ori_data.EURUSD.values[:-1].reshape(-1,1)\n",
        "retrun_actual= ori_data.EURUSD.values[1:].reshape(-1,1)/ori_data.EURUSD.values[:-1].reshape(-1,1)\n",
        "return_forecast_ls= return_forecast.reshape(-1).tolist()\n",
        "return_actual_ls= retrun_actual.reshape(-1).tolist()\n",
        "\n",
        "valuation_matrix= pd.DataFrame({'mean_level':return_forecast_ls,'actual':return_actual_ls})\n",
        "valuation_matrix.plot()\n",
        "plt.title('Actual Return vs Mean Level Return Forecasted by AI')\n",
        "plt.show()\n",
        "\n",
        "mean_eurusd= eurusd_forecast.reshape(-1).tolist()\n",
        "actual_eurusd= ori_data.EURUSD.values[1:].tolist()\n",
        "eurusd_compare= pd.DataFrame({'mean':mean_eurusd,'eurusd':actual_eurusd})\n",
        "eurusd_compare['strength']= (-eurusd_compare['mean'] + eurusd_compare['eurusd'])*10000\n",
        "eurusd_compare['strength'].plot()\n",
        "plt.title('EURUSD Choppiness Index')\n",
        "plt.show()"
      ],
      "execution_count": 3,
      "outputs": [
        {
          "output_type": "stream",
          "text": [
            "RMSE of the model forecast is: 41.70643103552176 pips\n"
          ],
          "name": "stdout"
        },
        {
          "output_type": "display_data",
          "data": {
            "image/png": "[encoded data removed]",
            "text/plain": [
              "<Figure size 432x288 with 1 Axes>"
            ]
          },
          "metadata": {
            "tags": []
          }
        },
        {
          "output_type": "display_data",
          "data": {
            "image/png": "[encoded data removed]",
            "text/plain": [
              "<Figure size 432x288 with 1 Axes>"
            ]
          },
          "metadata": {
            "tags": []
          }
        }
      ]
    },
    {
      "cell_type": "markdown",
      "metadata": {
        "id": "nXl1f-htfjZw",
        "colab_type": "text"
      },
      "source": [
        "STEP 4: Determine sell trigger and take profit (sell_buy) trigger should the sell trigger is activated."
      ]
    },
    {
      "cell_type": "code",
      "metadata": {
        "id": "9huWvr0qzL2T",
        "colab_type": "code",
        "outputId": "a39fc5d6-fa5c-4f79-ce8f-1a4fd4efd339",
        "colab": {
          "base_uri": "https://localhost:8080/",
          "height": 197
        }
      },
      "source": [
        "bid_ask_spread= 0.0001\n",
        "\n",
        "eurusd_compare['ask']= eurusd_compare['eurusd'] + bid_ask_spread\n",
        "eurusd_compare['bid']= eurusd_compare['eurusd'] - bid_ask_spread\n",
        "\n",
        "sell_trigger= np.linspace(10,100,20)\n",
        "buy_trigger= np.linspace(-100,0,20)\n",
        "\n",
        "b_ls= []\n",
        "s_ls= []\n",
        "total_profit_ls=[]\n",
        "  \n",
        "for s_index in range(len(sell_trigger)):\n",
        "  for b_index in range(len(buy_trigger)):\n",
        "    \n",
        "    sell= 0\n",
        "    total_profit=0\n",
        "    \n",
        "    for i in range(len(eurusd_compare)):\n",
        "      \n",
        "      b= buy_trigger[b_index]\n",
        "      s= sell_trigger[s_index]\n",
        "      \n",
        "      if sell==0 and eurusd_compare['strength'].iloc[i] >= s: \n",
        "         sell = 1\n",
        "         sell_price= eurusd_compare['bid'].iloc[i]\n",
        "        \n",
        "      if sell== 1 and  eurusd_compare['strength'].iloc[i] <= b:\n",
        "         buy_price= eurusd_compare['ask'].iloc[i]\n",
        "         profit= sell_price - buy_price\n",
        "         \n",
        "         if profit >0:\n",
        "            total_profit += profit\n",
        "            sell=0\n",
        "  \n",
        "    b_ls.append(b)\n",
        "    s_ls.append(s)\n",
        "    total_profit_ls.append(total_profit)\n",
        "   \n",
        "sell_price_df= pd.DataFrame({'sell_buy_trigger':b_ls,'sell_trigger':s_ls,'total_profit':total_profit_ls})\n",
        "sell_price_df.sort_values(by='total_profit',ascending=False,inplace=True)\n",
        "sell_price_df.head(5)"
      ],
      "execution_count": 8,
      "outputs": [
        {
          "output_type": "execute_result",
          "data": {
            "text/html": [
              "<div>\n",
              "<style scoped>\n",
              "    .dataframe tbody tr th:only-of-type {\n",
              "        vertical-align: middle;\n",
              "    }\n",
              "\n",
              "    .dataframe tbody tr th {\n",
              "        vertical-align: top;\n",
              "    }\n",
              "\n",
              "    .dataframe thead th {\n",
              "        text-align: right;\n",
              "    }\n",
              "</style>\n",
              "<table border=\"1\" class=\"dataframe\">\n",
              "  <thead>\n",
              "    <tr style=\"text-align: right;\">\n",
              "      <th></th>\n",
              "      <th>sell_buy_trigger</th>\n",
              "      <th>sell_trigger</th>\n",
              "      <th>total_profit</th>\n",
              "    </tr>\n",
              "  </thead>\n",
              "  <tbody>\n",
              "    <tr>\n",
              "      <th>37</th>\n",
              "      <td>-10.526316</td>\n",
              "      <td>14.736842</td>\n",
              "      <td>0.0683</td>\n",
              "    </tr>\n",
              "    <tr>\n",
              "      <th>36</th>\n",
              "      <td>-15.789474</td>\n",
              "      <td>14.736842</td>\n",
              "      <td>0.0676</td>\n",
              "    </tr>\n",
              "    <tr>\n",
              "      <th>211</th>\n",
              "      <td>-42.105263</td>\n",
              "      <td>57.368421</td>\n",
              "      <td>0.0650</td>\n",
              "    </tr>\n",
              "    <tr>\n",
              "      <th>31</th>\n",
              "      <td>-42.105263</td>\n",
              "      <td>14.736842</td>\n",
              "      <td>0.0641</td>\n",
              "    </tr>\n",
              "    <tr>\n",
              "      <th>191</th>\n",
              "      <td>-42.105263</td>\n",
              "      <td>52.631579</td>\n",
              "      <td>0.0631</td>\n",
              "    </tr>\n",
              "  </tbody>\n",
              "</table>\n",
              "</div>"
            ],
            "text/plain": [
              "     sell_buy_trigger  sell_trigger  total_profit\n",
              "37         -10.526316     14.736842        0.0683\n",
              "36         -15.789474     14.736842        0.0676\n",
              "211        -42.105263     57.368421        0.0650\n",
              "31         -42.105263     14.736842        0.0641\n",
              "191        -42.105263     52.631579        0.0631"
            ]
          },
          "metadata": {
            "tags": []
          },
          "execution_count": 8
        }
      ]
    },
    {
      "cell_type": "markdown",
      "metadata": {
        "id": "PJZbGHTlfwWv",
        "colab_type": "text"
      },
      "source": [
        "STEP 5:  Determine buy trigger and take profit (buy_sell) trigger should the buy trigger is activated."
      ]
    },
    {
      "cell_type": "code",
      "metadata": {
        "id": "yOYuWdCLH4Sp",
        "colab_type": "code",
        "outputId": "a834f46e-a64a-4f6f-89e8-12637fbacb39",
        "colab": {
          "base_uri": "https://localhost:8080/",
          "height": 197
        }
      },
      "source": [
        "b_ls= []\n",
        "s_ls= []\n",
        "total_profit_ls=[]\n",
        "  \n",
        "for b_index in range(len(buy_trigger)):\n",
        "  for s_index in range(len(sell_trigger)):\n",
        "    \n",
        "    buy= 0\n",
        "    total_profit=0\n",
        "    \n",
        "    for i in range(len(eurusd_compare)):\n",
        "      \n",
        "      b= buy_trigger[b_index]\n",
        "      s= sell_trigger[s_index]\n",
        "      \n",
        "      if buy==0 and eurusd_compare['strength'].iloc[i] <=b: \n",
        "         buy = 1\n",
        "         buy_price= eurusd_compare['ask'].iloc[i]\n",
        "        \n",
        "      if buy== 1 and  eurusd_compare['strength'].iloc[i] >=s:\n",
        "         sell_price= eurusd_compare['bid'].iloc[i]\n",
        "         profit= sell_price - buy_price\n",
        "         \n",
        "         if profit >0:\n",
        "            total_profit += profit\n",
        "            buy=0\n",
        "  \n",
        "    b_ls.append(b)\n",
        "    s_ls.append(s)\n",
        "    total_profit_ls.append(total_profit)\n",
        "   \n",
        "buy_price_df= pd.DataFrame({'buy_trigger':b_ls,'buy_sell_trigger':s_ls,'total_profit':total_profit_ls})\n",
        "buy_price_df.sort_values(by='total_profit',ascending=False,inplace=True)\n",
        "buy_price_df.head(5)"
      ],
      "execution_count": 9,
      "outputs": [
        {
          "output_type": "execute_result",
          "data": {
            "text/html": [
              "<div>\n",
              "<style scoped>\n",
              "    .dataframe tbody tr th:only-of-type {\n",
              "        vertical-align: middle;\n",
              "    }\n",
              "\n",
              "    .dataframe tbody tr th {\n",
              "        vertical-align: top;\n",
              "    }\n",
              "\n",
              "    .dataframe thead th {\n",
              "        text-align: right;\n",
              "    }\n",
              "</style>\n",
              "<table border=\"1\" class=\"dataframe\">\n",
              "  <thead>\n",
              "    <tr style=\"text-align: right;\">\n",
              "      <th></th>\n",
              "      <th>buy_trigger</th>\n",
              "      <th>buy_sell_trigger</th>\n",
              "      <th>total_profit</th>\n",
              "    </tr>\n",
              "  </thead>\n",
              "  <tbody>\n",
              "    <tr>\n",
              "      <th>161</th>\n",
              "      <td>-57.894737</td>\n",
              "      <td>14.736842</td>\n",
              "      <td>0.0467</td>\n",
              "    </tr>\n",
              "    <tr>\n",
              "      <th>163</th>\n",
              "      <td>-57.894737</td>\n",
              "      <td>24.210526</td>\n",
              "      <td>0.0463</td>\n",
              "    </tr>\n",
              "    <tr>\n",
              "      <th>162</th>\n",
              "      <td>-57.894737</td>\n",
              "      <td>19.473684</td>\n",
              "      <td>0.0463</td>\n",
              "    </tr>\n",
              "    <tr>\n",
              "      <th>165</th>\n",
              "      <td>-57.894737</td>\n",
              "      <td>33.684211</td>\n",
              "      <td>0.0406</td>\n",
              "    </tr>\n",
              "    <tr>\n",
              "      <th>164</th>\n",
              "      <td>-57.894737</td>\n",
              "      <td>28.947368</td>\n",
              "      <td>0.0406</td>\n",
              "    </tr>\n",
              "  </tbody>\n",
              "</table>\n",
              "</div>"
            ],
            "text/plain": [
              "     buy_trigger  buy_sell_trigger  total_profit\n",
              "161   -57.894737         14.736842        0.0467\n",
              "163   -57.894737         24.210526        0.0463\n",
              "162   -57.894737         19.473684        0.0463\n",
              "165   -57.894737         33.684211        0.0406\n",
              "164   -57.894737         28.947368        0.0406"
            ]
          },
          "metadata": {
            "tags": []
          },
          "execution_count": 9
        }
      ]
    },
    {
      "cell_type": "markdown",
      "metadata": {
        "id": "WhyZz3O2f-Md",
        "colab_type": "text"
      },
      "source": [
        "STEP 6: Backtest Result."
      ]
    },
    {
      "cell_type": "code",
      "metadata": {
        "id": "W8vf9TYWJ_Dt",
        "colab_type": "code",
        "outputId": "3f73ba91-8d1a-49df-cf1b-f7ef9b82d8fe",
        "colab": {
          "base_uri": "https://localhost:8080/",
          "height": 281
        }
      },
      "source": [
        "sell_trigger= sell_price_df['sell_trigger'].iloc[0]\n",
        "sell_buy_trigger= sell_price_df['buy_trigger'].iloc[0]\n",
        "\n",
        "buy_trigger= buy_price_df['buy_trigger'].iloc[0]\n",
        "buy_sell_trigger= buy_price_df['sell_trigger'].iloc[0]\n",
        "\n",
        "eurusd_compare\n",
        "\n",
        "buy=0\n",
        "sell=0\n",
        "total_profit=0\n",
        "total_profit_ls=[]\n",
        "\n",
        "\n",
        "for i in range(len(eurusd_compare)):\n",
        "#for i in [0]:\n",
        "  \n",
        "  \n",
        "  #Closing sell trigger:\n",
        "  if sell==1 and eurusd_compare.strength.iloc[i] <= sell_buy_trigger:\n",
        "    buy_price= eurusd_compare.ask.iloc[i]\n",
        "\n",
        "    if sell_price > buy_price:\n",
        "      profit= sell_price- buy_price\n",
        "      total_profit = total_profit + profit\n",
        "      sell=0\n",
        "\n",
        "  #Closing buy trigger:\n",
        "  if buy==1 and eurusd_compare.strength.iloc[i] >= buy_sell_trigger:\n",
        "    sell_price= eurusd_compare.bid.iloc[i]\n",
        "\n",
        "    if sell_price > buy_price:\n",
        "      profit= sell_price- buy_price\n",
        "      total_profit = total_profit + profit\n",
        "      buy=0  \n",
        "\n",
        "\n",
        "  #Condition to activate sell trigger:\n",
        "  if buy==0 and sell==0 and eurusd_compare.strength.iloc[i] >= sell_trigger:\n",
        "    sell= 1\n",
        "    sell_price= eurusd_compare.bid.iloc[i]\n",
        "\n",
        "  #Condition to activate buy trigger:\n",
        "  if sell== 0 and buy==0 and eurusd_compare.strength.iloc[i] <= buy_trigger:\n",
        "    buy= 1\n",
        "    buy_price= eurusd_compare.ask.iloc[i]\n",
        "\n",
        "\n",
        "  total_profit_ls.append(total_profit)\n",
        "\n",
        "\n",
        "\n",
        "\n",
        "init_capital= 1000\n",
        "cumm_return= [(1+x)* init_capital for x in total_profit_ls]\n",
        "cumm_return_pct= (cumm_return[-1]/init_capital-1)*100\n",
        "cumm_return_ann= cumm_return_pct*252/len(total_profit_ls)\n",
        "\n",
        "pd.DataFrame({'Capital Amount': cumm_return}).plot()\n",
        "plt.title('Annualized cummulative return of this strategy is ' + str(round(cumm_return_ann,2)) + ' % ')\n",
        "plt.show()"
      ],
      "execution_count": 6,
      "outputs": [
        {
          "output_type": "display_data",
          "data": {
            "image/png": "[encoded data removed]",
            "text/plain": [
              "<Figure size 432x288 with 1 Axes>"
            ]
          },
          "metadata": {
            "tags": []
          }
        }
      ]
    },
    {
      "cell_type": "markdown",
      "metadata": {
        "id": "7oMvUN5ygED1",
        "colab_type": "text"
      },
      "source": [
        "STEP 7: Saving backtest result and all relevant parameters."
      ]
    },
    {
      "cell_type": "code",
      "metadata": {
        "id": "BXjuYdvPGEFB",
        "colab_type": "code",
        "colab": {}
      },
      "source": [
        "sell_trigger= sell_price_df['sell_trigger'].iloc[0]\n",
        "sell_buy_trigger= sell_price_df['buy_trigger'].iloc[0]\n",
        "\n",
        "buy_trigger= buy_price_df['buy_trigger'].iloc[0]\n",
        "buy_sell_trigger= buy_price_df['sell_trigger'].iloc[0]\n",
        "\n",
        "trigger_data= pd.DataFrame({'buy': [buy_trigger], 'close_buy': [buy_sell_trigger],'sell':[sell_trigger],'close_sell':[sell_buy_trigger]})\n",
        "trigger_data.to_csv('trigger_data.csv',index=False)\n",
        "\n",
        "!cp trigger_data.csv drive/My\\ Drive/Trading\\ EURUSD\\ with\\ Deep\\ Learning\\ Algorithms/"
      ],
      "execution_count": 0,
      "outputs": []
    }
  ]
}